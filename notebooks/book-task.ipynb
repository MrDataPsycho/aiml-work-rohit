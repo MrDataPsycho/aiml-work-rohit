{
 "cells": [
  {
   "cell_type": "code",
   "execution_count": 4,
   "metadata": {},
   "outputs": [
    {
     "name": "stdout",
     "output_type": "stream",
     "text": [
      "Employees details. Attached are 2 files, 1st one is pairoll, 2nd is healtcare!\n"
     ]
    }
   ],
   "source": [
    "import re\n",
    "\n",
    "# Sample input\n",
    "formatted_text = \"<SUBJECT LINE> Employees details<END><BODY TEXT>Attached are 2 files,\\n1st one is pairoll, 2nd is healtcare!<END>\"\n",
    "\n",
    "# Find the content between tags and handle spaces and punctuation\n",
    "subject_match = re.search(r'<SUBJECT LINE>(.*?)<END>', formatted_text)\n",
    "body_match = re.search(r'<BODY TEXT>(.*?)<END>', formatted_text, re.DOTALL)\n",
    "\n",
    "# Extract contents without tags\n",
    "subject_content = subject_match.group(1).strip() if subject_match else ''\n",
    "body_content = body_match.group(1).strip().replace('\\n', ' ') if body_match else ''\n",
    "\n",
    "# Concatenate with proper punctuation and spacing\n",
    "decoded_text = f\"{subject_content}. {body_content}\"\n",
    "\n",
    "# Display the result\n",
    "print(decoded_text)"
   ]
  },
  {
   "cell_type": "code",
   "execution_count": 19,
   "metadata": {},
   "outputs": [
    {
     "name": "stdout",
     "output_type": "stream",
     "text": [
      "Step 1 Output:\n",
      " Employees details. Attached are 2 files, 1st one is pairoll, 2nd is healtcare!\n"
     ]
    }
   ],
   "source": [
    "import re\n",
    "\n",
    "input_text = \"<SUBJECT LINE> Employees details<END><BODY TEXT>Attached are 2 files,\\n1st one is pairoll, 2nd is healtcare!<END>\"\n",
    "# Remove start and end tags\n",
    "decoded_text = re.sub(r\"<.*?>\", \"\", input_text)\n",
    "# Replace newline characters with spaces\n",
    "decoded_text = re.sub(r'\\n', ' ', decoded_text)\n",
    "# Normalize multiple spaces to a single space\n",
    "decoded_text = re.sub(r'\\s+', ' ', decoded_text).strip()\n",
    "\n",
    "# Insert period after \"Employees details\" if it directly precedes ' Attached'\n",
    "decoded_text = re.sub(r\"Employees details\\s*Attached\", \"Employees details. Attached\", decoded_text)\n",
    "\n",
    "print(\"Step 1 Output:\\n\", decoded_text)"
   ]
  },
  {
   "cell_type": "code",
   "execution_count": 6,
   "metadata": {},
   "outputs": [
    {
     "name": "stdout",
     "output_type": "stream",
     "text": [
      "Step 2 Output:\n",
      " employees details. attached are 2 files, 1st one is pairoll, 2nd is healtcare!\n"
     ]
    }
   ],
   "source": [
    "lowercased_text = decoded_text.lower()\n",
    "\n",
    "print(\"Step 2 Output:\\n\", lowercased_text)"
   ]
  },
  {
   "cell_type": "code",
   "execution_count": 27,
   "metadata": {},
   "outputs": [
    {
     "name": "stdout",
     "output_type": "stream",
     "text": [
      "Step 3 Output:\n",
      " employees details. attached are two files, first one is pairoll, second is healtcare!\n"
     ]
    }
   ],
   "source": [
    "digit_to_word = {\n",
    "    '0': 'zero', '1': 'one', '2': 'two', '3': 'three', \n",
    "    '4': 'four', '5': 'five', '6': 'six', '7': 'seven', \n",
    "    '8': 'eight', '9': 'nine'\n",
    "}\n",
    "# Replace specific ordinal numbers with words\n",
    "# lowercased_text = re.sub(r'\\b1st\\b', 'first', lowercased_text)\n",
    "# lowercased_text = re.sub(r'\\b2nd\\b', 'second', lowercased_text)\n",
    "\n",
    "# Replace digits with words\n",
    "digit_converted_text = re.sub(r'\\d', lambda x: digit_to_word[x.group()], lowercased_text)\n",
    "\n",
    "print(\"Step 3 Output:\\n\", digit_converted_text)"
   ]
  },
  {
   "cell_type": "code",
   "execution_count": 8,
   "metadata": {},
   "outputs": [
    {
     "name": "stdout",
     "output_type": "stream",
     "text": [
      "Step 4 Output:\n",
      " employees details attached are two files first one is pairoll second is healtcare\n"
     ]
    }
   ],
   "source": [
    "# Remove punctuation\n",
    "no_punctuation_text = re.sub(r'[^\\w\\s]', '', digit_converted_text)\n",
    "\n",
    "print(\"Step 4 Output:\\n\", no_punctuation_text)"
   ]
  },
  {
   "cell_type": "code",
   "execution_count": 28,
   "metadata": {},
   "outputs": [
    {
     "name": "stdout",
     "output_type": "stream",
     "text": [
      "Step 5 Output:\n",
      " employees details attached are two files first one is patrol second is healtcare\n"
     ]
    }
   ],
   "source": [
    "from textblob import TextBlob\n",
    "\n",
    "# Perform spelling correction\n",
    "spelling_corrected_text = str(TextBlob(no_punctuation_text).correct())\n",
    "\n",
    "print(\"Step 5 Output:\\n\", spelling_corrected_text)"
   ]
  },
  {
   "cell_type": "code",
   "execution_count": 20,
   "metadata": {},
   "outputs": [
    {
     "name": "stdout",
     "output_type": "stream",
     "text": [
      "Step 6 Output:\n",
      " employees details attached two files first one payroll second healthcare\n"
     ]
    }
   ],
   "source": [
    "from nltk.corpus import stopwords\n",
    "\n",
    "stop_words = set(stopwords.words('english'))\n",
    "filtered_words = [word for word in spelling_corrected_text.split() if word not in stop_words]\n",
    "no_stopwords_text = ' '.join(filtered_words)\n",
    "\n",
    "print(\"Step 6 Output:\\n\", no_stopwords_text)"
   ]
  },
  {
   "cell_type": "code",
   "execution_count": 21,
   "metadata": {},
   "outputs": [
    {
     "name": "stdout",
     "output_type": "stream",
     "text": [
      "Step 7 Output:\n",
      " employe detail attach two file first one payrol second healthcar\n"
     ]
    }
   ],
   "source": [
    "from nltk.stem import PorterStemmer\n",
    "\n",
    "stemmer = PorterStemmer()\n",
    "stemmed_words = [stemmer.stem(word) for word in no_stopwords_text.split()]\n",
    "stemmed_text = ' '.join(stemmed_words)\n",
    "\n",
    "print(\"Step 7 Output:\\n\", stemmed_text)"
   ]
  },
  {
   "cell_type": "code",
   "execution_count": 22,
   "metadata": {},
   "outputs": [
    {
     "name": "stdout",
     "output_type": "stream",
     "text": [
      "Step 8 Output:\n",
      " employe detail attach two file first one payrol second healthcar\n"
     ]
    }
   ],
   "source": [
    "from nltk.stem import WordNetLemmatizer\n",
    "\n",
    "lemmatizer = WordNetLemmatizer()\n",
    "lemmatized_words = [lemmatizer.lemmatize(word) for word in stemmed_text.split()]\n",
    "lemmatized_text = ' '.join(lemmatized_words)\n",
    "\n",
    "print(\"Step 8 Output:\\n\", lemmatized_text)"
   ]
  }
 ],
 "metadata": {
  "kernelspec": {
   "display_name": "venv",
   "language": "python",
   "name": "python3"
  },
  "language_info": {
   "codemirror_mode": {
    "name": "ipython",
    "version": 3
   },
   "file_extension": ".py",
   "mimetype": "text/x-python",
   "name": "python",
   "nbconvert_exporter": "python",
   "pygments_lexer": "ipython3",
   "version": "3.11.9"
  }
 },
 "nbformat": 4,
 "nbformat_minor": 2
}
