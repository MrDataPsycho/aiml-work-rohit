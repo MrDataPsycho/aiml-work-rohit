{
 "cells": [
  {
   "cell_type": "code",
   "execution_count": 19,
   "metadata": {},
   "outputs": [
    {
     "name": "stdout",
     "output_type": "stream",
     "text": [
      "Step 1 Output:\n",
      " Employees details. Attached are 2 files, 1st one is pairoll, 2nd is healtcare!\n"
     ]
    }
   ],
   "source": [
    "import re\n",
    "\n",
    "input_text = \"<SUBJECT LINE> Employees details<END><BODY TEXT>Attached are 2 files,\\n1st one is pairoll, 2nd is healtcare!<END>\"\n",
    "# Remove start and end tags\n",
    "decoded_text = re.sub(r\"<.*?>\", \"\", input_text)\n",
    "# Replace newline characters with spaces\n",
    "decoded_text = re.sub(r'\\n', ' ', decoded_text)\n",
    "# Normalize multiple spaces to a single space\n",
    "decoded_text = re.sub(r'\\s+', ' ', decoded_text).strip()\n",
    "\n",
    "# Insert period after \"Employees details\" if it directly precedes ' Attached'\n",
    "decoded_text = re.sub(r\"Employees details\\s*Attached\", \"Employees details. Attached\", decoded_text)\n",
    "\n",
    "print(\"Step 1 Output:\\n\", decoded_text)"
   ]
  },
  {
   "cell_type": "code",
   "execution_count": 6,
   "metadata": {},
   "outputs": [
    {
     "name": "stdout",
     "output_type": "stream",
     "text": [
      "Step 2 Output:\n",
      " employees details. attached are 2 files, 1st one is pairoll, 2nd is healtcare!\n"
     ]
    }
   ],
   "source": [
    "lowercased_text = decoded_text.lower()\n",
    "\n",
    "print(\"Step 2 Output:\\n\", lowercased_text)"
   ]
  },
  {
   "cell_type": "code",
   "execution_count": 40,
   "metadata": {},
   "outputs": [
    {
     "name": "stdout",
     "output_type": "stream",
     "text": [
      "Step 3 Output:\n",
      " employees details. attached are two files, first one is pairoll, second is healtcare!\n"
     ]
    }
   ],
   "source": [
    "digit_to_word = {\n",
    "    '0': 'zero', '1': 'one', '2': 'two', '3': 'three', \n",
    "    '4': 'four', '5': 'five', '6': 'six', '7': 'seven', \n",
    "    '8': 'eight', '9': 'nine'\n",
    "}\n",
    "# Replace specific ordinal numbers with words\n",
    "lowercased_text = re.sub(r'\\b1st\\b', 'first', lowercased_text)\n",
    "lowercased_text = re.sub(r'\\b2nd\\b', 'second', lowercased_text)\n",
    "\n",
    "# Replace digits with words\n",
    "digit_converted_text = re.sub(r'\\d', lambda x: digit_to_word[x.group()], lowercased_text)\n",
    "\n",
    "print(\"Step 3 Output:\\n\", digit_converted_text)"
   ]
  },
  {
   "cell_type": "code",
   "execution_count": 8,
   "metadata": {},
   "outputs": [
    {
     "name": "stdout",
     "output_type": "stream",
     "text": [
      "Step 4 Output:\n",
      " employees details attached are two files first one is pairoll second is healtcare\n"
     ]
    }
   ],
   "source": [
    "# Remove punctuation\n",
    "no_punctuation_text = re.sub(r'[^\\w\\s]', '', digit_converted_text)\n",
    "\n",
    "print(\"Step 4 Output:\\n\", no_punctuation_text)"
   ]
  },
  {
   "cell_type": "code",
   "execution_count": 38,
   "metadata": {},
   "outputs": [
    {
     "name": "stdout",
     "output_type": "stream",
     "text": [
      "Step 5 Output:\n",
      " employees details attached are two files first one is payroll second is healthcare\n"
     ]
    }
   ],
   "source": [
    "# from textblob import TextBlob\n",
    "\n",
    "# # Perform spelling correction\n",
    "# spelling_corrected_blob = TextBlob(no_punctuation_text)\n",
    "# spelling_corrected_text = str(spelling_corrected_blob.correct())\n",
    "\n",
    "# print(\"Step 5 Output:\\n\", spelling_corrected_text)\n",
    "\n",
    "# Define a custom dictionary for spelling corrections\n",
    "spelling_corrections = {\n",
    "    \"pairoll\": \"payroll\",\n",
    "    \"healtcare\": \"healthcare\"\n",
    "}\n",
    "\n",
    "# Function to correct spelling using the dictionary\n",
    "def correct_spelling(text, corrections):\n",
    "    words = text.split()\n",
    "    corrected_words = [corrections.get(word, word) for word in words]\n",
    "    return ' '.join(corrected_words)\n",
    "\n",
    "# Perform spelling correction\n",
    "spelling_corrected_text = correct_spelling(no_punctuation_text, spelling_corrections)\n",
    "\n",
    "print(\"Step 5 Output:\\n\", spelling_corrected_text)"
   ]
  },
  {
   "cell_type": "code",
   "execution_count": 39,
   "metadata": {},
   "outputs": [
    {
     "name": "stdout",
     "output_type": "stream",
     "text": [
      "Step 6 Output:\n",
      " employees details attached two files first one payroll second healthcare\n"
     ]
    }
   ],
   "source": [
    "from nltk.corpus import stopwords\n",
    "\n",
    "stop_words = set(stopwords.words('english'))\n",
    "filtered_words = [word for word in spelling_corrected_text.split() if word not in stop_words]\n",
    "no_stopwords_text = ' '.join(filtered_words)\n",
    "\n",
    "print(\"Step 6 Output:\\n\", no_stopwords_text)"
   ]
  },
  {
   "cell_type": "code",
   "execution_count": 41,
   "metadata": {},
   "outputs": [
    {
     "name": "stdout",
     "output_type": "stream",
     "text": [
      "Step 7 Output:\n",
      " employe detail attach two file first one payrol second healthcar\n"
     ]
    }
   ],
   "source": [
    "from nltk.stem import PorterStemmer\n",
    "\n",
    "stemmer = PorterStemmer()\n",
    "stemmed_words = [stemmer.stem(word) for word in no_stopwords_text.split()]\n",
    "stemmed_text = ' '.join(stemmed_words)\n",
    "\n",
    "print(\"Step 7 Output:\\n\", stemmed_text)"
   ]
  },
  {
   "cell_type": "code",
   "execution_count": 42,
   "metadata": {},
   "outputs": [
    {
     "name": "stdout",
     "output_type": "stream",
     "text": [
      "Step 8 Output:\n",
      " employe detail attach two file first one payrol second healthcar\n"
     ]
    }
   ],
   "source": [
    "from nltk.stem import WordNetLemmatizer\n",
    "\n",
    "lemmatizer = WordNetLemmatizer()\n",
    "lemmatized_words = [lemmatizer.lemmatize(word) for word in stemmed_text.split()]\n",
    "lemmatized_text = ' '.join(lemmatized_words)\n",
    "\n",
    "print(\"Step 8 Output:\\n\", lemmatized_text)"
   ]
  }
 ],
 "metadata": {
  "kernelspec": {
   "display_name": "venv",
   "language": "python",
   "name": "python3"
  },
  "language_info": {
   "codemirror_mode": {
    "name": "ipython",
    "version": 3
   },
   "file_extension": ".py",
   "mimetype": "text/x-python",
   "name": "python",
   "nbconvert_exporter": "python",
   "pygments_lexer": "ipython3",
   "version": "3.11.9"
  }
 },
 "nbformat": 4,
 "nbformat_minor": 2
}
