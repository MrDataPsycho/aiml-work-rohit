{
 "cells": [
  {
   "cell_type": "code",
   "execution_count": 6,
   "metadata": {},
   "outputs": [],
   "source": [
    "import joblib\n",
    "from pathlib import Path\n",
    "import pandas as pd"
   ]
  },
  {
   "cell_type": "code",
   "execution_count": 2,
   "metadata": {},
   "outputs": [],
   "source": [
    "# Function to load the model and vectorizer from the file\n",
    "def load_model_vectorizer(file_path):\n",
    "    return joblib.load(file_path)\n",
    "\n",
    "# Function to classify an email message\n",
    "def classify_email(model, vectorizer, message):\n",
    "    vectorized_message = vectorizer.transform([message])\n",
    "    prediction = model.predict(vectorized_message)[0]\n",
    "    return 'spam' if prediction == 1 else 'ham'"
   ]
  },
  {
   "cell_type": "code",
   "execution_count": 3,
   "metadata": {},
   "outputs": [
    {
     "name": "stdout",
     "output_type": "stream",
     "text": [
      "Model loaded from c:\\AIML Work\\aimlexercise\\artifact\\modelsave.pkl\n"
     ]
    }
   ],
   "source": [
    "model_directory = Path().absolute().parent / \"artifact\"\n",
    "model_file_path = model_directory / \"modelsave.pkl\"\n",
    "\n",
    "# Load the model and vectorizer\n",
    "spam_model, email_vectorizer = load_model_vectorizer(model_file_path)\n",
    "\n",
    "# Print confirmation\n",
    "print(f\"Model loaded from {model_file_path}\")"
   ]
  },
  {
   "cell_type": "code",
   "execution_count": 4,
   "metadata": {},
   "outputs": [
    {
     "name": "stdout",
     "output_type": "stream",
     "text": [
      "The given email is ham\n"
     ]
    }
   ],
   "source": [
    "# Prompt the user to enter a message for classification\n",
    "user_message = input('Enter a string for classification: ')\n",
    "\n",
    "# Classify the message\n",
    "classification = classify_email(spam_model, email_vectorizer, user_message)\n",
    "print(f'The given email is {classification}')"
   ]
  },
  {
   "cell_type": "code",
   "execution_count": 5,
   "metadata": {},
   "outputs": [
    {
     "name": "stdout",
     "output_type": "stream",
     "text": [
      "The given email is ham\n"
     ]
    }
   ],
   "source": [
    "def classifier(message: str) -> str:\n",
    "    return classify_email(spam_model, email_vectorizer, message)\n",
    "\n",
    "# Test the classifier function\n",
    "test_message = input('Enter a string for classification using the classifier function: ')\n",
    "print(f'The given email is {classifier(test_message)}')"
   ]
  }
 ],
 "metadata": {
  "kernelspec": {
   "display_name": "venv",
   "language": "python",
   "name": "python3"
  },
  "language_info": {
   "codemirror_mode": {
    "name": "ipython",
    "version": 3
   },
   "file_extension": ".py",
   "mimetype": "text/x-python",
   "name": "python",
   "nbconvert_exporter": "python",
   "pygments_lexer": "ipython3",
   "version": "3.11.9"
  }
 },
 "nbformat": 4,
 "nbformat_minor": 2
}
